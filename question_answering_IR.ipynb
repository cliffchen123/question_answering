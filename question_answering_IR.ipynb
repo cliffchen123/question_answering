{
 "cells": [
  {
   "cell_type": "markdown",
   "metadata": {},
   "source": [
    "# Question Answering\n",
    "## information retrieval\n",
    "---"
   ]
  },
  {
   "cell_type": "markdown",
   "metadata": {},
   "source": [
    "## Data set\n",
    "document set: WF Cases 20190517.csv<br>\n",
    "query set:    NABU FAQ for Worry Free Product 20190401.csv\n",
    "\n",
    "---"
   ]
  },
  {
   "cell_type": "markdown",
   "metadata": {},
   "source": [
    "## Preprocessing\n",
    "### email_preprocess.py\n",
    "Extract the main of email and remove garbage information.<br>\n",
    "Finally output is a cPickle file.\n",
    "### create_dictionary.py\n",
    "Use the output file of email_preprocess.py to create dictionary.\n",
    "### word2id.py\n",
    "Use dictionary to transfer the word of email to word ID.\n",
    "\n",
    "---"
   ]
  },
  {
   "cell_type": "markdown",
   "metadata": {},
   "source": [
    "## Method\n",
    "### Unigram Language Model\n",
    "<i>Q:What is unigram language model?<br>\n",
    "A:probability distribution over the words in a language.<br></i>\n",
    "\n",
    "We use document and query to generate document language model and query language model, and then calculate KL-Divergence score to rank the relevant document.\n",
    "$$ KL\\left(Q||D\\right)=\\sum _{w\\in V}\\frac {f_{w\\cdot Q}}{\\left| Q\\right| }\\log P\\left( w| D\\right) $$\n",
    "$Q$ is query, $D$ is document, $w$ is word, $V$ is all of the vocabulary, $f_{w\\cdot Q}$ is frequency of the word $w$ in query $Q$\n",
    "\n",
    "### IR_qustion2qustion.py\n",
    "We use the subject of \"NABU FAQ for Worry Free Product 20190401.csv\" as query, and the subject of \"WF Cases 20190517.csv\" as document. At the beginning of the code is LM generation, and then calculate the KL score between document LM and query LM. Finally, rank and select top N relevant subject to output<br> \n",
    "\n",
    "\n",
    "---"
   ]
  }
 ],
 "metadata": {
  "kernelspec": {
   "display_name": "Python 3",
   "language": "python",
   "name": "python3"
  },
  "language_info": {
   "codemirror_mode": {
    "name": "ipython",
    "version": 3
   },
   "file_extension": ".py",
   "mimetype": "text/x-python",
   "name": "python",
   "nbconvert_exporter": "python",
   "pygments_lexer": "ipython3",
   "version": "3.5.6"
  }
 },
 "nbformat": 4,
 "nbformat_minor": 2
}
